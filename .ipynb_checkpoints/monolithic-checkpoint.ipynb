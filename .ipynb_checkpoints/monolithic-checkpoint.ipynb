{
 "cells": [
  {
   "cell_type": "code",
   "execution_count": null,
   "id": "c6c0e764-c0f9-4e75-b4f1-9f5d952eba24",
   "metadata": {},
   "outputs": [],
   "source": [
    "##Monolithic model"
   ]
  },
  {
   "cell_type": "code",
   "execution_count": 1,
   "id": "1cc39fae-77e7-449b-91f0-9a94da3c7916",
   "metadata": {},
   "outputs": [],
   "source": [
    "import numpy as np\n"
   ]
  },
  {
   "cell_type": "code",
   "execution_count": null,
   "id": "b927cf53-5dc8-4a4b-952a-9e2f23dcb4c9",
   "metadata": {},
   "outputs": [],
   "source": [
    "from tensorflow.keras.models import Sequential\n"
   ]
  },
  {
   "cell_type": "code",
   "execution_count": null,
   "id": "b27af3bb-7ee6-4f69-8225-04a2e525e441",
   "metadata": {},
   "outputs": [],
   "source": [
    "from tensorflow.keras.layers import Dense\n",
    "from tensorflow.keras.optimizers import Adam\n",
    "\n",
    "# Fake dataset\n",
    "X = np.random.rand(1000, 20)  # 20 input features\n",
    "y = (np.sum(X, axis=1) > 10).astype(int)  # binary classification\n",
    "\n",
    "# Monolithic model: one big NN\n",
    "model = Sequential([\n",
    "    Dense(64, activation='relu', input_shape=(20,)),\n",
    "    Dense(64, activation='relu'),\n",
    "    Dense(1, activation='sigmoid')\n",
    "])\n",
    "\n",
    "model.compile(optimizer=Adam(0.001), loss='binary_crossentropy', metrics=['accuracy'])\n",
    "\n",
    "model.fit(X, y, epochs=5, batch_size=32, verbose=1)\n",
    "\n",
    "print(\"\\nMonolithic Model Evaluation:\", model.evaluate(X, y))\n"
   ]
  }
 ],
 "metadata": {
  "kernelspec": {
   "display_name": "Python 3 (ipykernel)",
   "language": "python",
   "name": "python3"
  },
  "language_info": {
   "codemirror_mode": {
    "name": "ipython",
    "version": 3
   },
   "file_extension": ".py",
   "mimetype": "text/x-python",
   "name": "python",
   "nbconvert_exporter": "python",
   "pygments_lexer": "ipython3",
   "version": "3.11.8"
  }
 },
 "nbformat": 4,
 "nbformat_minor": 5
}
