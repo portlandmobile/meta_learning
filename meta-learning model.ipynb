{
 "cells": [
  {
   "cell_type": "code",
   "execution_count": 1,
   "id": "1d2c11f2-06c4-4b55-b362-9b4d410cc88a",
   "metadata": {},
   "outputs": [],
   "source": [
    "import numpy as np\n",
    "from tensorflow.keras.models import Sequential, Model\n",
    "from tensorflow.keras.layers import Dense, Input, Concatenate\n",
    "from tensorflow.keras.optimizers import Adam\n"
   ]
  },
  {
   "cell_type": "code",
   "execution_count": 2,
   "id": "58aa47dd-fa91-462d-b926-b54940192fc7",
   "metadata": {},
   "outputs": [],
   "source": [
    "\n",
    "# Fake dataset\n",
    "X = np.random.rand(1000, 20)\n",
    "y = (np.sum(X[:, :10], axis=1) + 0.5 * np.sum(X[:, 10:], axis=1) > 10).astype(int)\n",
    "\n",
    "\n"
   ]
  },
  {
   "cell_type": "code",
   "execution_count": 3,
   "id": "1ed63698-c5a9-4f38-a2b4-9deb6075a9fc",
   "metadata": {},
   "outputs": [],
   "source": [
    "# Base model 1: handles first 10 features\n",
    "input1 = Input(shape=(10,))\n",
    "x1 = Dense(32, activation='relu')(input1)\n",
    "x1 = Dense(16, activation='relu')(x1)\n",
    "out1 = Dense(8, activation='relu')(x1)\n",
    "base_model1 = Model(inputs=input1, outputs=out1)\n",
    "\n"
   ]
  },
  {
   "cell_type": "code",
   "execution_count": 4,
   "id": "c0498ecd-0554-43d1-b870-181a2b8f32ca",
   "metadata": {},
   "outputs": [],
   "source": [
    "# Base model 2: handles last 10 features\n",
    "input2 = Input(shape=(10,))\n",
    "x2 = Dense(32, activation='relu')(input2)\n",
    "x2 = Dense(16, activation='relu')(x2)\n",
    "out2 = Dense(8, activation='relu')(x2)\n",
    "base_model2 = Model(inputs=input2, outputs=out2)\n",
    "\n"
   ]
  },
  {
   "cell_type": "code",
   "execution_count": 5,
   "id": "10834eac-c1fd-4af1-aaac-0d53d438262c",
   "metadata": {},
   "outputs": [],
   "source": [
    "# Meta-model: combines outputs from both base models\n",
    "combined = Concatenate()([base_model1.output, base_model2.output])\n",
    "z = Dense(16, activation='relu')(combined)\n",
    "z = Dense(1, activation='sigmoid')(z)\n",
    "meta_model = Model(inputs=[base_model1.input, base_model2.input], outputs=z)\n",
    "\n"
   ]
  },
  {
   "cell_type": "code",
   "execution_count": 6,
   "id": "0be83e8f-ac95-4bb2-a6dd-692ed3df21c9",
   "metadata": {},
   "outputs": [],
   "source": [
    "meta_model.compile(optimizer=Adam(0.001), loss='binary_crossentropy', metrics=['accuracy'])"
   ]
  },
  {
   "cell_type": "code",
   "execution_count": 7,
   "id": "ccf07373-618a-489d-b212-94ee2bd29a9c",
   "metadata": {},
   "outputs": [
    {
     "name": "stdout",
     "output_type": "stream",
     "text": [
      "Epoch 1/5\n",
      "\u001b[1m32/32\u001b[0m \u001b[32m━━━━━━━━━━━━━━━━━━━━\u001b[0m\u001b[37m\u001b[0m \u001b[1m1s\u001b[0m 656us/step - accuracy: 0.6090 - loss: 0.6865 \n",
      "Epoch 2/5\n",
      "\u001b[1m32/32\u001b[0m \u001b[32m━━━━━━━━━━━━━━━━━━━━\u001b[0m\u001b[37m\u001b[0m \u001b[1m0s\u001b[0m 667us/step - accuracy: 0.9940 - loss: 0.3668\n",
      "Epoch 3/5\n",
      "\u001b[1m32/32\u001b[0m \u001b[32m━━━━━━━━━━━━━━━━━━━━\u001b[0m\u001b[37m\u001b[0m \u001b[1m0s\u001b[0m 690us/step - accuracy: 0.9940 - loss: 0.0863\n",
      "Epoch 4/5\n",
      "\u001b[1m32/32\u001b[0m \u001b[32m━━━━━━━━━━━━━━━━━━━━\u001b[0m\u001b[37m\u001b[0m \u001b[1m0s\u001b[0m 597us/step - accuracy: 0.9940 - loss: 0.0478\n",
      "Epoch 5/5\n",
      "\u001b[1m32/32\u001b[0m \u001b[32m━━━━━━━━━━━━━━━━━━━━\u001b[0m\u001b[37m\u001b[0m \u001b[1m0s\u001b[0m 638us/step - accuracy: 0.9940 - loss: 0.0471\n"
     ]
    },
    {
     "data": {
      "text/plain": [
       "<keras.src.callbacks.history.History at 0x17d91f150>"
      ]
     },
     "execution_count": 7,
     "metadata": {},
     "output_type": "execute_result"
    }
   ],
   "source": [
    "# Split X into two parts for the base models\n",
    "meta_model.fit([X[:, :10], X[:, 10:]], y, epochs=5, batch_size=32, verbose=1)\n",
    "\n"
   ]
  },
  {
   "cell_type": "code",
   "execution_count": 8,
   "id": "fb772585-0eb6-4d5a-8170-4d041e1104df",
   "metadata": {},
   "outputs": [
    {
     "name": "stdout",
     "output_type": "stream",
     "text": [
      "\u001b[1m32/32\u001b[0m \u001b[32m━━━━━━━━━━━━━━━━━━━━\u001b[0m\u001b[37m\u001b[0m \u001b[1m0s\u001b[0m 552us/step - accuracy: 0.9940 - loss: 0.0467\n",
      "\n",
      "Meta Neural Network Evaluation: [0.04665948078036308, 0.9940000176429749]\n"
     ]
    }
   ],
   "source": [
    "print(\"\\nMeta Neural Network Evaluation:\",\n",
    "      meta_model.evaluate([X[:, :10], X[:, 10:]], y))"
   ]
  },
  {
   "cell_type": "code",
   "execution_count": null,
   "id": "d3ad0024-ffc4-48d7-8a56-a3e738564024",
   "metadata": {},
   "outputs": [],
   "source": []
  }
 ],
 "metadata": {
  "kernelspec": {
   "display_name": "Meta Learning (.venv)",
   "language": "python",
   "name": "meta_learning_venv"
  },
  "language_info": {
   "codemirror_mode": {
    "name": "ipython",
    "version": 3
   },
   "file_extension": ".py",
   "mimetype": "text/x-python",
   "name": "python",
   "nbconvert_exporter": "python",
   "pygments_lexer": "ipython3",
   "version": "3.11.8"
  }
 },
 "nbformat": 4,
 "nbformat_minor": 5
}
